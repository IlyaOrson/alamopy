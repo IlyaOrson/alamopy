{
 "cells": [
  {
   "cell_type": "code",
   "execution_count": 8,
   "metadata": {},
   "outputs": [
    {
     "name": "stdout",
     "output_type": "stream",
     "text": [
      "/tmp/io-ysc_7lkz/src\n"
     ]
    }
   ],
   "source": [
    "\"\"\"\n",
    "Simple example to see if we can generate model for y = x**2 + z**2 + 1\n",
    "\"\"\"\n",
    "import sys\n",
    "from pathlib import Path\n",
    "\n",
    "module_dir = Path.cwd() / \"src\"\n",
    "print(module_dir)\n",
    "# sys.path.append(module_dir)"
   ]
  },
  {
   "cell_type": "code",
   "execution_count": 9,
   "metadata": {},
   "outputs": [],
   "source": [
    "import numpy as np\n",
    "from alamopy.almain import doalamo"
   ]
  },
  {
   "cell_type": "code",
   "execution_count": 10,
   "metadata": {},
   "outputs": [],
   "source": [
    "xdata = np.random.rand(10, 3)\n",
    "xdata[:, 0] *= 10  # Make x1 go from 0 to 10\n",
    "xdata[:, 1] *= 5  # Make x2 go from 0 to 5\n",
    "\n",
    "zdata = xdata[:, 0] ** 2 + xdata[:, 1] ** 2"
   ]
  },
  {
   "cell_type": "code",
   "execution_count": 7,
   "metadata": {},
   "outputs": [
    {
     "name": "stdout",
     "output_type": "stream",
     "text": [
      "b''\n",
      " ***************************************************************************\n",
      " ALAMO version 2022.10.7. Built: LNX-64 Fri Oct 7 21:05:57 EDT 2022 \n",
      "\n",
      " If you use this software, please cite:\n",
      " Cozad, A., N. V. Sahinidis and D. C. Miller,\n",
      " Automatic Learning of Algebraic Models for Optimization,\n",
      " AIChE Journal, 60, 2211-2227, 2014.\n",
      "\n",
      " ALAMO is powered by the BARON software from http://www.minlp.com/\n",
      " ***************************************************************************\n",
      " Licensee: Ilya Sandoval at Imperial College London, os220@ic.ac.uk.\n",
      " ***************************************************************************\n",
      " \n",
      " ALAMO terminated with termination code 1 \n",
      " ALAMO must be called with one or two command line arguments.\n",
      " ***************************************************************************\n",
      "\n",
      "You may view the output files in /tmp/io-ysc_7lkz\n"
     ]
    }
   ],
   "source": [
    "opts = doalamo(\n",
    "    xdata,\n",
    "    zdata,\n",
    "    noutput=1,\n",
    "    keep_alm_file=True,\n",
    "    keep_lst_file=True,\n",
    "    print_alm_output=True,\n",
    "    monomialpower=[2, 3],\n",
    "    crncustom=1,\n",
    "    zlabels=[\"z\"],\n",
    "    customcon=[\"1 -z\"],\n",
    ")"
   ]
  }
 ],
 "metadata": {
  "kernelspec": {
   "display_name": "Python 3.8.10 ('env': venv)",
   "language": "python",
   "name": "python3"
  },
  "language_info": {
   "codemirror_mode": {
    "name": "ipython",
    "version": 3
   },
   "file_extension": ".py",
   "mimetype": "text/x-python",
   "name": "python",
   "nbconvert_exporter": "python",
   "pygments_lexer": "ipython3",
   "version": "3.8.10"
  },
  "orig_nbformat": 4,
  "vscode": {
   "interpreter": {
    "hash": "94cefcd0a46dfcfb169ec37c00ee3e9ac8af5482df0354e38281b50d866c61a0"
   }
  }
 },
 "nbformat": 4,
 "nbformat_minor": 2
}
